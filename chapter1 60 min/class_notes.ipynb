{
 "cells": [
  {
   "cell_type": "markdown",
   "metadata": {},
   "source": [
    "# 变量和方法"
   ]
  },
  {
   "cell_type": "code",
   "execution_count": 8,
   "metadata": {},
   "outputs": [],
   "source": [
    "class Student ():\n",
    "    def __init__(self, n, s):  #括号里的参数就是这个class的参数,第一个必须是self\n",
    "        self.name = n          #这里定义class的各种属性，也就是data域\n",
    "        self.score = s\n",
    "    def print_name(self, a):   #这里定义class的方法，第一个参数必须是self\n",
    "        print(self.name, a)     #方法的具体内容"
   ]
  },
  {
   "cell_type": "code",
   "execution_count": 9,
   "metadata": {},
   "outputs": [],
   "source": [
    "std = Student('1','2')"
   ]
  },
  {
   "cell_type": "code",
   "execution_count": 10,
   "metadata": {},
   "outputs": [
    {
     "data": {
      "text/plain": [
       "('1', '2')"
      ]
     },
     "execution_count": 10,
     "metadata": {},
     "output_type": "execute_result"
    }
   ],
   "source": [
    "std.name, std.score"
   ]
  },
  {
   "cell_type": "code",
   "execution_count": 11,
   "metadata": {},
   "outputs": [
    {
     "name": "stdout",
     "output_type": "stream",
     "text": [
      "1 name\n"
     ]
    }
   ],
   "source": [
    "std.print_name('name')"
   ]
  },
  {
   "cell_type": "code",
   "execution_count": 12,
   "metadata": {},
   "outputs": [],
   "source": [
    "class Student():\n",
    "    def __init__(self, n, s):\n",
    "        self.__name = n   # 以双下划线开头的变量不能被外部直接访问，只能在class内部访问\n",
    "        self.__score = s\n",
    "    def name(self):       # 我们设计一个方法，使该方法返回这个变量\n",
    "        return self.__name\n",
    "    def set_name(self,n): # 同样可以设置一个方法，修改该变量\n",
    "        if len(n)<10: \n",
    "            self.__name = n\n",
    "        else:\n",
    "            raise ValueError('too long')  #使用raise命令返回一个自定义的异常"
   ]
  },
  {
   "cell_type": "markdown",
   "metadata": {},
   "source": [
    "从上面可以看到，使用特定方法来修改变量的好处是可以给传入的参数添加限制条件"
   ]
  },
  {
   "cell_type": "code",
   "execution_count": 13,
   "metadata": {},
   "outputs": [],
   "source": [
    "std = Student('1','2')  # 不能被外部访问，但是可以初始化"
   ]
  },
  {
   "cell_type": "code",
   "execution_count": 14,
   "metadata": {},
   "outputs": [
    {
     "ename": "AttributeError",
     "evalue": "'Student' object has no attribute '__name'",
     "output_type": "error",
     "traceback": [
      "\u001b[0;31m---------------------------------------------------------------------------\u001b[0m",
      "\u001b[0;31mAttributeError\u001b[0m                            Traceback (most recent call last)",
      "\u001b[0;32m<ipython-input-14-f0417647788e>\u001b[0m in \u001b[0;36m<module>\u001b[0;34m\u001b[0m\n\u001b[0;32m----> 1\u001b[0;31m \u001b[0mstd\u001b[0m\u001b[0;34m.\u001b[0m\u001b[0m__name\u001b[0m\u001b[0;34m\u001b[0m\u001b[0;34m\u001b[0m\u001b[0m\n\u001b[0m",
      "\u001b[0;31mAttributeError\u001b[0m: 'Student' object has no attribute '__name'"
     ]
    }
   ],
   "source": [
    "std.__name"
   ]
  },
  {
   "cell_type": "code",
   "execution_count": 15,
   "metadata": {},
   "outputs": [
    {
     "data": {
      "text/plain": [
       "'1'"
      ]
     },
     "execution_count": 15,
     "metadata": {},
     "output_type": "execute_result"
    }
   ],
   "source": [
    "std.name()              # 通过定义的方法访问  "
   ]
  },
  {
   "cell_type": "code",
   "execution_count": 16,
   "metadata": {},
   "outputs": [
    {
     "data": {
      "text/plain": [
       "'myname'"
      ]
     },
     "execution_count": 16,
     "metadata": {},
     "output_type": "execute_result"
    }
   ],
   "source": [
    "std.set_name('myname')  # 通过定义的方法修改\n",
    "std.name()"
   ]
  },
  {
   "cell_type": "markdown",
   "metadata": {},
   "source": [
    "事实上双下划线只是把变量修改成了`_Student__name`，不同编译器修改的方式可能不同，虽然这样做很作死，但我们还是可以试一下。"
   ]
  },
  {
   "cell_type": "code",
   "execution_count": 17,
   "metadata": {},
   "outputs": [
    {
     "data": {
      "text/plain": [
       "'myname'"
      ]
     },
     "execution_count": 17,
     "metadata": {},
     "output_type": "execute_result"
    }
   ],
   "source": [
    "std._Student__name"
   ]
  },
  {
   "cell_type": "markdown",
   "metadata": {},
   "source": [
    "# 继承"
   ]
  },
  {
   "cell_type": "code",
   "execution_count": 18,
   "metadata": {},
   "outputs": [],
   "source": [
    "class father():\n",
    "    def __init__(self,n):\n",
    "        self.name = n\n",
    "    def print_name(self):\n",
    "        print(self.name)"
   ]
  },
  {
   "cell_type": "markdown",
   "metadata": {},
   "source": [
    "### 1 不使用`super()`方法，自动继承`__init__()`\n",
    "第一种是最简单的，不重写`__init__()`，则 Python 默认继承了父类的`__init__`，默认继承了父类的所有方法和属性(变量)。并且可以增加新的方法，如果方法重复则先使用子类的。"
   ]
  },
  {
   "cell_type": "code",
   "execution_count": 19,
   "metadata": {},
   "outputs": [],
   "source": [
    "class son(father):\n",
    "    def p_name(self):\n",
    "        print('1'+self.name)\n",
    "    def print_name(self):\n",
    "        print('2'+self.name)"
   ]
  },
  {
   "cell_type": "code",
   "execution_count": 20,
   "metadata": {},
   "outputs": [
    {
     "name": "stdout",
     "output_type": "stream",
     "text": [
      "na\n",
      "1na\n",
      "2na\n"
     ]
    }
   ],
   "source": [
    "s = son('na')      #继承了父类的参数\n",
    "print(s.name)      #继承了父类的属性变量\n",
    "s.p_name()         #继承了父类的所有方法\n",
    "s.print_name()     #方法名字重复时优先使用子类定义的方法"
   ]
  },
  {
   "cell_type": "markdown",
   "metadata": {},
   "source": [
    "### 2 使用`super()`方法继承`__init__()`"
   ]
  },
  {
   "cell_type": "markdown",
   "metadata": {},
   "source": [
    "在使用`super(son,self).__init__()`继承父类的`__init__()`函数时，括号内的参数**不需要**写`self`，只需要传递其他的参数进去。新的`__init__()`覆盖了父类的`___init__()`方法，因而新的`__init__()`可以在父类的基础上增加更多的变量，以及给父类传入重新定制的参数。"
   ]
  },
  {
   "cell_type": "markdown",
   "metadata": {},
   "source": [
    "相同的是，父类的所有方法和变量都会被继承。"
   ]
  },
  {
   "cell_type": "code",
   "execution_count": 21,
   "metadata": {},
   "outputs": [],
   "source": [
    "class son(father):               #在开头括号写上父类\n",
    "    def __init__(self,n): \n",
    "        super(son,self).__init__(n+'son')  #继承__init__()函数"
   ]
  },
  {
   "cell_type": "code",
   "execution_count": 22,
   "metadata": {},
   "outputs": [
    {
     "name": "stdout",
     "output_type": "stream",
     "text": [
      "nameson\n",
      "nameson\n"
     ]
    }
   ],
   "source": [
    "s = son('name')    #传入参数给子类，子类处理后传给父类\n",
    "print(s.name)      #继承了父类的属性变量\n",
    "s.print_name()     #继承了父类的方法"
   ]
  },
  {
   "cell_type": "markdown",
   "metadata": {},
   "source": [
    "### 3 使用`super()`继承和加工父类的某个方法"
   ]
  },
  {
   "cell_type": "code",
   "execution_count": 23,
   "metadata": {},
   "outputs": [],
   "source": [
    "class son(father):\n",
    "    # 这里直接使用默认继承__init__方法，如果使用super()应该也一样\n",
    "    def son_print(self):              #定义一个新方法\n",
    "        super(son,self).print_name()  #该方法继承父类的一个方法，同样不用输入self参数\n",
    "        print('这一行是我新增的动作')    #该方法还包括我新增加的一些动作"
   ]
  },
  {
   "cell_type": "code",
   "execution_count": 24,
   "metadata": {},
   "outputs": [
    {
     "name": "stdout",
     "output_type": "stream",
     "text": [
      "myname\n",
      "这一行是我新增的动作\n"
     ]
    }
   ],
   "source": [
    "s = son('myname')\n",
    "s.son_print()"
   ]
  },
  {
   "cell_type": "markdown",
   "metadata": {},
   "source": [
    "# 框架中的`__call__()`方法"
   ]
  },
  {
   "cell_type": "markdown",
   "metadata": {},
   "source": [
    "让类变成可直接调用的函数。"
   ]
  },
  {
   "cell_type": "code",
   "execution_count": 25,
   "metadata": {},
   "outputs": [],
   "source": [
    "class c():\n",
    "    def __init__(self, name):\n",
    "        c.name = name\n",
    "    def p(self):\n",
    "        print(self.name)\n",
    "    def __call__(self,hello): # __call__()的参数为实例被直接调用时输入的参数\n",
    "        print(hello)          # 直接在__call__()里面写动作\n",
    "        c.p(self)             # 在__call__()里面调用该类(或其他类)的属性"
   ]
  },
  {
   "cell_type": "code",
   "execution_count": 26,
   "metadata": {},
   "outputs": [],
   "source": [
    "fuck = c('dys')               # 输入参数给__init__() "
   ]
  },
  {
   "cell_type": "code",
   "execution_count": 27,
   "metadata": {},
   "outputs": [
    {
     "name": "stdout",
     "output_type": "stream",
     "text": [
      "hello handsome\n",
      "dys\n"
     ]
    }
   ],
   "source": [
    "fuck('hello handsome')        # 输入参数给__call__() "
   ]
  }
 ],
 "metadata": {
  "kernelspec": {
   "display_name": "Python 3",
   "language": "python",
   "name": "python3"
  },
  "language_info": {
   "codemirror_mode": {
    "name": "ipython",
    "version": 3
   },
   "file_extension": ".py",
   "mimetype": "text/x-python",
   "name": "python",
   "nbconvert_exporter": "python",
   "pygments_lexer": "ipython3",
   "version": "3.6.8"
  }
 },
 "nbformat": 4,
 "nbformat_minor": 2
}
