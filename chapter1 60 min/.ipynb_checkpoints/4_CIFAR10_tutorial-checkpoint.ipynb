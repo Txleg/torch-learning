{
 "cells": [
  {
   "cell_type": "code",
   "execution_count": 1,
   "metadata": {},
   "outputs": [],
   "source": [
    "%matplotlib inline"
   ]
  },
  {
   "cell_type": "markdown",
   "metadata": {},
   "source": [
    "# 训练一个分类器"
   ]
  },
  {
   "cell_type": "markdown",
   "metadata": {},
   "source": [
    "我们可以使用`torchvision`来处理图像。"
   ]
  },
  {
   "cell_type": "markdown",
   "metadata": {},
   "source": [
    ">一般情况下处理图像、文本、音频和视频数据时，可以使用标准的Python包来加载数据到一个numpy数组中。 然后把这个数组转换成 torch.*Tensor。\n",
    "图像可以使用 Pillow, OpenCV\n",
    "音频可以使用 scipy, librosa\n",
    "文本可以使用原始Python和Cython来加载，或者使用 NLTK或 SpaCy 处理\n",
    "\n",
    ">特别的，对于图像任务，我们创建了一个包 torchvision，它包含了处理一些基本图像数据集的方法。这些数据集包括 Imagenet, CIFAR10, MNIST 等。除了数据加载以外，torchvision 还包含了图像转换器， torchvision.datasets 和 torch.utils.data.DataLoader。"
   ]
  },
  {
   "cell_type": "code",
   "execution_count": 2,
   "metadata": {},
   "outputs": [],
   "source": [
    "import torch\n",
    "import torchvision\n",
    "import torchvision.transforms as transforms"
   ]
  },
  {
   "cell_type": "markdown",
   "metadata": {},
   "source": [
    "`transforms = transforms.Compose(transforms)`定义一个变换，该变换将将多个变换步骤整合在一起。\n",
    "* `ToTensor()`将数值范围为[0,255]的PIL图像转换为[0,1]的 Tensor。\n",
    "* `Normalize(mean, deviation)`给定均值和标准差，进行归一化处理。这里图像为 RGB 三个通道，因而需要为三个通道都赋予参数。"
   ]
  },
  {
   "cell_type": "code",
   "execution_count": 3,
   "metadata": {},
   "outputs": [
    {
     "name": "stdout",
     "output_type": "stream",
     "text": [
      "Files already downloaded and verified\n",
      "Files already downloaded and verified\n"
     ]
    }
   ],
   "source": [
    "transform = transforms.Compose(\n",
    "    [transforms.ToTensor(),\n",
    "     transforms.Normalize((0.5, 0.5, 0.5), (0.5, 0.5, 0.5))])\n",
    "\n",
    "trainset = torchvision.datasets.CIFAR10(root='./data', train=True, download=True, transform=transform)\n",
    "trainloader = torch.utils.data.DataLoader(trainset, batch_size=4, shuffle=True, num_workers=2)\n",
    "testset = torchvision.datasets.CIFAR10(root='./data',train=False, download=True, transform=transform)\n",
    "testloader = torch.utils.data.DataLoader(testset, batch_size=4, shuffle=False, num_workers=2)\n",
    "\n",
    "classes = ('plane','car', 'bird', 'cat', 'deer', 'dog', 'frog', 'horse', 'ship', 'truck')"
   ]
  },
  {
   "cell_type": "code",
   "execution_count": 4,
   "metadata": {},
   "outputs": [],
   "source": [
    "?torchvision.datasets.CIFAR10"
   ]
  },
  {
   "cell_type": "code",
   "execution_count": 5,
   "metadata": {},
   "outputs": [],
   "source": [
    "import matplotlib.pyplot as plt\n",
    "import numpy as np"
   ]
  },
  {
   "cell_type": "markdown",
   "metadata": {},
   "source": [
    "写一个展示图片的函数。"
   ]
  },
  {
   "cell_type": "code",
   "execution_count": 6,
   "metadata": {},
   "outputs": [],
   "source": [
    "def imshow(img):\n",
    "    img = img/2+0.5    # 归一化公式 (x-0.5)\n",
    "    npimg = img.numpy()\n",
    "    plt.imshow(np.transpose(npimg, (1,2,0))) #将各个维度的顺序重新排列"
   ]
  },
  {
   "cell_type": "code",
   "execution_count": 7,
   "metadata": {},
   "outputs": [],
   "source": [
    "?torch.nn.functional.normalize"
   ]
  },
  {
   "cell_type": "markdown",
   "metadata": {},
   "source": [
    "首先`ToTensor`就已经标准化了。然后`Normalize`用了这个 $v = \\frac{v}{\\max(\\lVert v \\rVert_p, \\epsilon)}$  看不懂的归一化公式。在这里是`(x-0.5)*2`将范围为[0,1]的 x 变成范围[-1,1]"
   ]
  },
  {
   "cell_type": "markdown",
   "metadata": {},
   "source": [
    "`Dataload`创建一个可迭代对象，类似一个列表，每个列表的两个元素的为图片和标签，可以通过`iter()`的方式访问并用`next()`的方式读取。"
   ]
  },
  {
   "cell_type": "code",
   "execution_count": 8,
   "metadata": {
    "scrolled": true
   },
   "outputs": [
    {
     "name": "stdout",
     "output_type": "stream",
     "text": [
      "dog truck plane deer\n"
     ]
    },
    {
     "data": {
      "image/png": "[encoded data removed]",
      "text/plain": [
       "<Figure size 432x288 with 1 Axes>"
      ]
     },
     "metadata": {
      "needs_background": "light"
     },
     "output_type": "display_data"
    }
   ],
   "source": [
    "#获取随机数据   看不懂\n",
    "dataiter = iter(trainloader)\n",
    "images, labels = dataiter.next()  \n",
    "\n",
    "#展示4个图像\n",
    "imshow(torchvision.utils.make_grid(images))\n",
    "print(' '.join(classes[labels[j]] for j in range(4)))\n"
   ]
  },
  {
   "cell_type": "markdown",
   "metadata": {},
   "source": [
    "## 神经网络。"
   ]
  },
  {
   "cell_type": "code",
   "execution_count": 9,
   "metadata": {},
   "outputs": [],
   "source": [
    "import torch.nn as nn\n",
    "import torch.nn.functional as F\n",
    "\n",
    "\n",
    "class Net(nn.Module):\n",
    "    def __init__(self):\n",
    "        super(Net, self).__init__()\n",
    "        self.conv1 = nn.Conv2d(3, 6, 5)\n",
    "        self.pool = nn.MaxPool2d(2, 2)\n",
    "        self.conv2 = nn.Conv2d(6, 16, 5)\n",
    "        self.fc1 = nn.Linear(16*5*5,120)\n",
    "        self.fc2 = nn.Linear(120,84)\n",
    "        self.fc3 = nn.Linear(84, 10)\n",
    "        \n",
    "    def forward(self, x):\n",
    "        x = self.pool(F.relu(self.conv1(x)))\n",
    "        x = self.pool(F.relu(self.conv2(x)))\n",
    "        x = x.view(-1, 16*5*5)\n",
    "        x = F.relu(self.fc1(x))\n",
    "        x = F.relu(self.fc2(x))\n",
    "        x = self.fc3(x)\n",
    "        return x\n",
    "\n",
    "net = Net()"
   ]
  },
  {
   "cell_type": "markdown",
   "metadata": {},
   "source": [
    "## Loss & Optimizer"
   ]
  },
  {
   "cell_type": "code",
   "execution_count": 10,
   "metadata": {},
   "outputs": [],
   "source": [
    "import torch.optim as optim\n",
    "\n",
    "criterion = nn.CrossEntropyLoss()\n",
    "optimizer = optim.SGD(net.parameters(), lr=0.001, momentum=0.9)"
   ]
  },
  {
   "cell_type": "markdown",
   "metadata": {},
   "source": [
    "## Train"
   ]
  },
  {
   "cell_type": "code",
   "execution_count": 11,
   "metadata": {},
   "outputs": [
    {
     "name": "stdout",
     "output_type": "stream",
     "text": [
      "[1, 2000] loss: 2.216\n",
      "[1, 4000] loss: 1.864\n",
      "[1, 6000] loss: 1.657\n",
      "[1, 8000] loss: 1.556\n",
      "[1,10000] loss: 1.499\n",
      "[1,12000] loss: 1.444\n",
      "[2, 2000] loss: 1.344\n",
      "[2, 4000] loss: 1.348\n",
      "[2, 6000] loss: 1.322\n",
      "[2, 8000] loss: 1.297\n",
      "[2,10000] loss: 1.280\n",
      "[2,12000] loss: 1.249\n"
     ]
    }
   ],
   "source": [
    "for epoch in range(2):\n",
    "    \n",
    "    running_loss = 0.0\n",
    "    for i, data in enumerate(trainloader, 0): #在trainloader的每个元素(tuple)前添加一项作为序号,从0开始\n",
    "        inputs, labels = data\n",
    "        optimizer.zero_grad()\n",
    "        \n",
    "        #data为迭代对象的一项，相当于列表的一个元素。\n",
    "        \n",
    "        #输入一个图片，计算loss，反向传播，每个loss\n",
    "        outputs = net(inputs)        \n",
    "        loss = criterion(outputs,labels)\n",
    "        loss.backward()\n",
    "        optimizer.step()\n",
    "        \n",
    "        #下面涉及到batch的概念，但是要明确，我们这里并没有使用mini-batch梯度下降，而是对每个样本进行梯度下降\n",
    "        #下面打印损失,2000样本为一个batch，每个batch对应一个总的loss，一个batch后重置loss\n",
    "        running_loss += loss.item()\n",
    "        if i%2000==1999:\n",
    "            print('[%d,%5d] loss: %.3f'%\n",
    "                 (epoch+1, i+1, running_loss/2000))\n",
    "            running_loss=0.0"
   ]
  },
  {
   "cell_type": "markdown",
   "metadata": {},
   "source": [
    "## 测试"
   ]
  },
  {
   "cell_type": "markdown",
   "metadata": {},
   "source": [
    "迭代对象的知识不太了解，但是在这里可以看出，这个迭代对象中，每取一次是4张图片,原因是`Dataload`的参数中`batch_size`被设置为`4`，所以这里也算是一种 minibatch"
   ]
  },
  {
   "cell_type": "code",
   "execution_count": 12,
   "metadata": {},
   "outputs": [
    {
     "name": "stdout",
     "output_type": "stream",
     "text": [
      "GroundTruth: cat ship ship plane\n"
     ]
    },
    {
     "data": {
      "image/png": "[encoded data removed]",
      "text/plain": [
       "<Figure size 432x288 with 1 Axes>"
      ]
     },
     "metadata": {
      "needs_background": "light"
     },
     "output_type": "display_data"
    }
   ],
   "source": [
    "dataiter = iter(testloader)\n",
    "images, labels = dataiter.next()\n",
    "\n",
    "imshow(torchvision.utils.make_grid(images))\n",
    "print('GroundTruth:', ' '.join(classes[labels[j]] for j in range(4)))"
   ]
  },
  {
   "cell_type": "markdown",
   "metadata": {},
   "source": [
    "看看神经网络认为是什么"
   ]
  },
  {
   "cell_type": "code",
   "execution_count": 13,
   "metadata": {},
   "outputs": [],
   "source": [
    "outputs = net(images) #输入四张图片"
   ]
  },
  {
   "cell_type": "code",
   "execution_count": 14,
   "metadata": {},
   "outputs": [
    {
     "data": {
      "text/plain": [
       "tensor([[-1.4314, -1.8607,  1.2158,  1.9903,  0.1784,  1.3091,  1.9610, -0.7239,\n",
       "         -0.2134, -1.6827],\n",
       "        [ 5.9921,  5.9089, -1.7006, -3.7653, -2.2897, -5.4844, -4.4466, -4.8706,\n",
       "          5.1248,  3.0223],\n",
       "        [ 3.9258,  2.1260,  0.1937, -1.9149, -0.9345, -3.6225, -3.0808, -2.9640,\n",
       "          3.4474,  0.6004],\n",
       "        [ 5.2951,  1.6279,  0.4135, -2.6603, -0.3151, -4.0286, -3.2645, -2.5867,\n",
       "          3.6011,  0.1990]], grad_fn=<AddmmBackward>)"
      ]
     },
     "execution_count": 14,
     "metadata": {},
     "output_type": "execute_result"
    }
   ],
   "source": [
    "outputs    #输出四个图片的分类结果"
   ]
  },
  {
   "cell_type": "markdown",
   "metadata": {},
   "source": [
    "`torch.max(tensor, dim)`两个参数,一个是输入的`tensor`，另一个是维度数`dim`，0就是每一列作比较得出最大值，1是每一行作比较得出最大值。"
   ]
  },
  {
   "cell_type": "code",
   "execution_count": 15,
   "metadata": {},
   "outputs": [
    {
     "name": "stdout",
     "output_type": "stream",
     "text": [
      "tensor([3, 0, 0, 0])\n",
      "pridict:  cat plane plane plane\n"
     ]
    }
   ],
   "source": [
    "value, pridict = torch.max(outputs, 1) \n",
    "print(pridict)\n",
    "print('pridict: ', ' '.join(classes[pridict[j]] for j in range(4)))"
   ]
  },
  {
   "cell_type": "markdown",
   "metadata": {},
   "source": [
    "查看整个数据集的表现。"
   ]
  },
  {
   "cell_type": "code",
   "execution_count": 16,
   "metadata": {},
   "outputs": [],
   "source": [
    "correct = 0\n",
    "total = 0\n",
    "with torch.no_grad(): \n",
    "    for data in testloader: \n",
    "        images, labels = data\n",
    "        outputs = net(images)\n",
    "        value, pridict = torch.max(outputs.data, 1)\n",
    "        total += labels.size(0) #labels是一个list，长度为\n",
    "        correct += (pridict == labels).sum().item()"
   ]
  },
  {
   "cell_type": "markdown",
   "metadata": {},
   "source": [
    "以下是对两个 Tensor 使用`==`计算的示例，很显然这就类似词向量那里要用到的那个什么东西名字忘了。"
   ]
  },
  {
   "cell_type": "code",
   "execution_count": 17,
   "metadata": {},
   "outputs": [
    {
     "name": "stdout",
     "output_type": "stream",
     "text": [
      "Accuracy: 53 %\n"
     ]
    }
   ],
   "source": [
    "print('Accuracy: %d %%'%(100*correct/total))"
   ]
  },
  {
   "cell_type": "code",
   "execution_count": 18,
   "metadata": {},
   "outputs": [
    {
     "name": "stdout",
     "output_type": "stream",
     "text": [
      "tensor([0, 1, 1, 0], dtype=torch.uint8)\n",
      "tensor(2)\n",
      "tensor([0, 1, 1, 0], dtype=torch.uint8)\n"
     ]
    }
   ],
   "source": [
    "a = torch.Tensor([1,2,3,4])\n",
    "b = torch.Tensor([2,2,3,1])\n",
    "print(a == b)\n",
    "print((a==b).sum())#.sum方法计算出来还是tensor\n",
    "print((a==b).squeeze()) # .squeeze(dim)为如果第dim个维度的为维度值为1，那就去掉这个维度，因为没用，如果没指定dim那就是去掉全部没用的维度"
   ]
  },
  {
   "cell_type": "markdown",
   "metadata": {},
   "source": [
    "如何计算每一个类别的准确率呢，我们只需要把`correct`和`total`写成一个长度为10的向量就可以啦！"
   ]
  },
  {
   "cell_type": "code",
   "execution_count": 21,
   "metadata": {},
   "outputs": [],
   "source": [
    "class_correct = list(0. for i in range(10))\n",
    "class_total = list(0. for i in range(10))\n",
    "with torch.no_grad():\n",
    "    for data in testloader:\n",
    "        images, labels = data\n",
    "        outputs = net(images)\n",
    "        value, pridict = torch.max(outputs, 1)\n",
    "        c = (pridict == labels).squeeze()\n",
    "        for i in range(4):\n",
    "            label = labels[i]\n",
    "            class_correct[label] += c[i].item() #加上0或者1\n",
    "            class_total[label] += 1\n",
    "            "
   ]
  },
  {
   "cell_type": "code",
   "execution_count": 23,
   "metadata": {},
   "outputs": [
    {
     "name": "stdout",
     "output_type": "stream",
     "text": [
      "Accuracy of plane : 78%\n",
      "Accuracy of   car : 80%\n",
      "Accuracy of  bird : 36%\n",
      "Accuracy of   cat : 17%\n",
      "Accuracy of  deer : 50%\n",
      "Accuracy of   dog : 50%\n",
      "Accuracy of  frog : 67%\n",
      "Accuracy of horse : 64%\n",
      "Accuracy of  ship : 45%\n",
      "Accuracy of truck : 43%\n"
     ]
    }
   ],
   "source": [
    "for i in range(10):\n",
    "    print('Accuracy of %5s : %2d%%'%\n",
    "          (classes[i], class_correct[i]*100/class_total[i]))"
   ]
  },
  {
   "cell_type": "markdown",
   "metadata": {},
   "source": [
    "## GPU上训练"
   ]
  },
  {
   "cell_type": "markdown",
   "metadata": {},
   "source": [
    "只需要将每次input的tensor(labels 和 inputs)，以及整个net转移到gpu,即`to(device)`即可。"
   ]
  }
 ],
 "metadata": {
  "kernelspec": {
   "display_name": "Python 3",
   "language": "python",
   "name": "python3"
  },
  "language_info": {
   "codemirror_mode": {
    "name": "ipython",
    "version": 3
   },
   "file_extension": ".py",
   "mimetype": "text/x-python",
   "name": "python",
   "nbconvert_exporter": "python",
   "pygments_lexer": "ipython3",
   "version": "3.6.8"
  }
 },
 "nbformat": 4,
 "nbformat_minor": 2
}
